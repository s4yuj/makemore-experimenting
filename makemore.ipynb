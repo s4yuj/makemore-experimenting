{
 "cells": [
  {
   "cell_type": "code",
   "execution_count": 1,
   "metadata": {
    "colab": {
     "base_uri": "https://localhost:8080/"
    },
    "executionInfo": {
     "elapsed": 139,
     "status": "ok",
     "timestamp": 1731986030249,
     "user": {
      "displayName": "Sayuj Sethi",
      "userId": "03752742628727809448"
     },
     "user_tz": 480
    },
    "id": "2ul3uMIRW-Zj",
    "outputId": "7884a5cd-f0af-4e54-c6a1-c93de3ea1035"
   },
   "outputs": [
    {
     "data": {
      "text/plain": [
       "['emma',\n",
       " 'olivia',\n",
       " 'ava',\n",
       " 'isabella',\n",
       " 'sophia',\n",
       " 'charlotte',\n",
       " 'mia',\n",
       " 'amelia',\n",
       " 'harper',\n",
       " 'evelyn']"
      ]
     },
     "execution_count": 1,
     "metadata": {},
     "output_type": "execute_result"
    }
   ],
   "source": [
    "words = open('names.txt', 'r').read().splitlines()\n",
    "#splitlines() uses newline to denote a new element in the list\n",
    "\n",
    "words[:10]"
   ]
  },
  {
   "cell_type": "code",
   "execution_count": 2,
   "metadata": {
    "colab": {
     "base_uri": "https://localhost:8080/"
    },
    "executionInfo": {
     "elapsed": 145,
     "status": "ok",
     "timestamp": 1731986059723,
     "user": {
      "displayName": "Sayuj Sethi",
      "userId": "03752742628727809448"
     },
     "user_tz": 480
    },
    "id": "cTP7UHw_aRXg",
    "outputId": "81a553c0-91ac-4c9e-e091-514c1da2d4d6"
   },
   "outputs": [
    {
     "data": {
      "text/plain": [
       "32033"
      ]
     },
     "execution_count": 2,
     "metadata": {},
     "output_type": "execute_result"
    }
   ],
   "source": [
    "len(words)"
   ]
  },
  {
   "cell_type": "code",
   "execution_count": 3,
   "metadata": {
    "colab": {
     "base_uri": "https://localhost:8080/"
    },
    "executionInfo": {
     "elapsed": 144,
     "status": "ok",
     "timestamp": 1731986073975,
     "user": {
      "displayName": "Sayuj Sethi",
      "userId": "03752742628727809448"
     },
     "user_tz": 480
    },
    "id": "4n-4rz_nafCC",
    "outputId": "4636200d-1003-42ac-b0ad-64eb34748805"
   },
   "outputs": [
    {
     "data": {
      "text/plain": [
       "2"
      ]
     },
     "execution_count": 3,
     "metadata": {},
     "output_type": "execute_result"
    }
   ],
   "source": [
    "min(len(w) for w in words)"
   ]
  },
  {
   "cell_type": "code",
   "execution_count": 4,
   "metadata": {
    "colab": {
     "base_uri": "https://localhost:8080/"
    },
    "executionInfo": {
     "elapsed": 140,
     "status": "ok",
     "timestamp": 1731986095281,
     "user": {
      "displayName": "Sayuj Sethi",
      "userId": "03752742628727809448"
     },
     "user_tz": 480
    },
    "id": "UxOmm0pdaigp",
    "outputId": "e5ee7b7a-9790-483c-b041-7d25939a19d3"
   },
   "outputs": [
    {
     "data": {
      "text/plain": [
       "15"
      ]
     },
     "execution_count": 4,
     "metadata": {},
     "output_type": "execute_result"
    }
   ],
   "source": [
    "max(len(w) for w in words)"
   ]
  },
  {
   "cell_type": "code",
   "execution_count": 5,
   "metadata": {
    "executionInfo": {
     "elapsed": 167,
     "status": "ok",
     "timestamp": 1731987080502,
     "user": {
      "displayName": "Sayuj Sethi",
      "userId": "03752742628727809448"
     },
     "user_tz": 480
    },
    "id": "ps4Wc2-1antf"
   },
   "outputs": [],
   "source": [
    "#each word is used to train what might follow each character.\n",
    "#like 'isabella' tells us that if a word starts with 'i', it likely has 's' after that\n",
    "#continuing, if a word has 'is' it likely has 'isa' after that\n",
    "#so on and so forth until we can predict that if a word has all 'isabella' it is likely the end of that name\n",
    "\n",
    "#a bigram is a 2 letter word\n",
    "#we start by building a simplified model that only predicts the next letter, seen one character (bigram generator)\n",
    "#(our main model is just this but extrapolated)\n",
    "\n",
    "b = {} #this is a list of our bigrams\n",
    "for w in words:\n",
    "  chs = ['<S>'] + list(w) + ['<E>']\n",
    "  #<S> and <E> are arbitrary startword and endword characters\n",
    "  #so for each word in the dataset, we're building something like:\n",
    "  #[<S>, 'e', 'm', 'm', 'a', <E>]\n",
    "  for ch1, ch2 in zip(chs, chs[1:]):\n",
    "    bigram = (ch1, ch2) #creates a bigram tupple for every possible bigram in each word\n",
    "    b[bigram] = b.get(bigram, 0) + 1. #assigns or updates the count of each bigram\n",
    "    # print(ch1, ch2)"
   ]
  },
  {
   "cell_type": "code",
   "execution_count": 62,
   "metadata": {
    "colab": {
     "base_uri": "https://localhost:8080/"
    },
    "executionInfo": {
     "elapsed": 143,
     "status": "ok",
     "timestamp": 1731987204177,
     "user": {
      "displayName": "Sayuj Sethi",
      "userId": "03752742628727809448"
     },
     "user_tz": 480
    },
    "id": "GT8nZCO7b8kW",
    "outputId": "fb893180-b109-42f6-8293-e5c3ed7043cc"
   },
   "outputs": [],
   "source": [
    "x = sorted(b.items(), key = lambda kv: -kv[1])\n",
    "#creates a list of tuples\n",
    "\n",
    "#what this tells us is that n for example is that n and a are very common ending characters.\n"
   ]
  },
  {
   "cell_type": "code",
   "execution_count": 19,
   "metadata": {
    "colab": {
     "base_uri": "https://localhost:8080/"
    },
    "executionInfo": {
     "elapsed": 146,
     "status": "ok",
     "timestamp": 1731988125753,
     "user": {
      "displayName": "Sayuj Sethi",
      "userId": "03752742628727809448"
     },
     "user_tz": 480
    },
    "id": "0esubG8Ydr93",
    "outputId": "97dc0ebd-18ce-4d34-9e4d-4c36468e6c3c"
   },
   "outputs": [
    {
     "data": {
      "text/plain": [
       "tensor([[0, 0, 0, 0, 0, 0, 0, 0, 0, 0, 0, 0, 0, 0, 0, 0, 0, 0, 0, 0, 0, 0, 0, 0,\n",
       "         0, 0, 0, 0],\n",
       "        [0, 0, 0, 0, 0, 0, 0, 0, 0, 0, 0, 0, 0, 0, 0, 0, 0, 0, 0, 0, 0, 0, 0, 0,\n",
       "         0, 0, 0, 0],\n",
       "        [0, 0, 0, 0, 0, 0, 0, 0, 0, 0, 0, 0, 0, 0, 0, 0, 0, 0, 0, 0, 0, 0, 0, 0,\n",
       "         0, 0, 0, 0],\n",
       "        [0, 0, 0, 0, 0, 0, 0, 0, 0, 0, 0, 0, 0, 0, 0, 0, 0, 0, 0, 0, 0, 0, 0, 0,\n",
       "         0, 0, 0, 0],\n",
       "        [0, 0, 0, 0, 0, 0, 0, 0, 0, 0, 0, 0, 0, 0, 0, 0, 0, 0, 0, 0, 0, 0, 0, 0,\n",
       "         0, 0, 0, 0],\n",
       "        [0, 0, 0, 0, 0, 0, 0, 0, 0, 0, 0, 0, 0, 0, 0, 0, 0, 0, 0, 0, 0, 0, 0, 0,\n",
       "         0, 0, 0, 0],\n",
       "        [0, 0, 0, 0, 0, 0, 0, 0, 0, 0, 0, 0, 0, 0, 0, 0, 0, 0, 0, 0, 0, 0, 0, 0,\n",
       "         0, 0, 0, 0],\n",
       "        [0, 0, 0, 0, 0, 0, 0, 0, 0, 0, 0, 0, 0, 0, 0, 0, 0, 0, 0, 0, 0, 0, 0, 0,\n",
       "         0, 0, 0, 0],\n",
       "        [0, 0, 0, 0, 0, 0, 0, 0, 0, 0, 0, 0, 0, 0, 0, 0, 0, 0, 0, 0, 0, 0, 0, 0,\n",
       "         0, 0, 0, 0],\n",
       "        [0, 0, 0, 0, 0, 0, 0, 0, 0, 0, 0, 0, 0, 0, 0, 0, 0, 0, 0, 0, 0, 0, 0, 0,\n",
       "         0, 0, 0, 0],\n",
       "        [0, 0, 0, 0, 0, 0, 0, 0, 0, 0, 0, 0, 0, 0, 0, 0, 0, 0, 0, 0, 0, 0, 0, 0,\n",
       "         0, 0, 0, 0],\n",
       "        [0, 0, 0, 0, 0, 0, 0, 0, 0, 0, 0, 0, 0, 0, 0, 0, 0, 0, 0, 0, 0, 0, 0, 0,\n",
       "         0, 0, 0, 0],\n",
       "        [0, 0, 0, 0, 0, 0, 0, 0, 0, 0, 0, 0, 0, 0, 0, 0, 0, 0, 0, 0, 0, 0, 0, 0,\n",
       "         0, 0, 0, 0],\n",
       "        [0, 0, 0, 0, 0, 0, 0, 0, 0, 0, 0, 0, 0, 0, 0, 0, 0, 0, 0, 0, 0, 0, 0, 0,\n",
       "         0, 0, 0, 0],\n",
       "        [0, 0, 0, 0, 0, 0, 0, 0, 0, 0, 0, 0, 0, 0, 0, 0, 0, 0, 0, 0, 0, 0, 0, 0,\n",
       "         0, 0, 0, 0],\n",
       "        [0, 0, 0, 0, 0, 0, 0, 0, 0, 0, 0, 0, 0, 0, 0, 0, 0, 0, 0, 0, 0, 0, 0, 0,\n",
       "         0, 0, 0, 0],\n",
       "        [0, 0, 0, 0, 0, 0, 0, 0, 0, 0, 0, 0, 0, 0, 0, 0, 0, 0, 0, 0, 0, 0, 0, 0,\n",
       "         0, 0, 0, 0],\n",
       "        [0, 0, 0, 0, 0, 0, 0, 0, 0, 0, 0, 0, 0, 0, 0, 0, 0, 0, 0, 0, 0, 0, 0, 0,\n",
       "         0, 0, 0, 0],\n",
       "        [0, 0, 0, 0, 0, 0, 0, 0, 0, 0, 0, 0, 0, 0, 0, 0, 0, 0, 0, 0, 0, 0, 0, 0,\n",
       "         0, 0, 0, 0],\n",
       "        [0, 0, 0, 0, 0, 0, 0, 0, 0, 0, 0, 0, 0, 0, 0, 0, 0, 0, 0, 0, 0, 0, 0, 0,\n",
       "         0, 0, 0, 0],\n",
       "        [0, 0, 0, 0, 0, 0, 0, 0, 0, 0, 0, 0, 0, 0, 0, 0, 0, 0, 0, 0, 0, 0, 0, 0,\n",
       "         0, 0, 0, 0],\n",
       "        [0, 0, 0, 0, 0, 0, 0, 0, 0, 0, 0, 0, 0, 0, 0, 0, 0, 0, 0, 0, 0, 0, 0, 0,\n",
       "         0, 0, 0, 0],\n",
       "        [0, 0, 0, 0, 0, 0, 0, 0, 0, 0, 0, 0, 0, 0, 0, 0, 0, 0, 0, 0, 0, 0, 0, 0,\n",
       "         0, 0, 0, 0],\n",
       "        [0, 0, 0, 0, 0, 0, 0, 0, 0, 0, 0, 0, 0, 0, 0, 0, 0, 0, 0, 0, 0, 0, 0, 0,\n",
       "         0, 0, 0, 0],\n",
       "        [0, 0, 0, 0, 0, 0, 0, 0, 0, 0, 0, 0, 0, 0, 0, 0, 0, 0, 0, 0, 0, 0, 0, 0,\n",
       "         0, 0, 0, 0],\n",
       "        [0, 0, 0, 0, 0, 0, 0, 0, 0, 0, 0, 0, 0, 0, 0, 0, 0, 0, 0, 0, 0, 0, 0, 0,\n",
       "         0, 0, 0, 0],\n",
       "        [0, 0, 0, 0, 0, 0, 0, 0, 0, 0, 0, 0, 0, 0, 0, 0, 0, 0, 0, 0, 0, 0, 0, 0,\n",
       "         0, 0, 0, 0],\n",
       "        [0, 0, 0, 0, 0, 0, 0, 0, 0, 0, 0, 0, 0, 0, 0, 0, 0, 0, 0, 0, 0, 0, 0, 0,\n",
       "         0, 0, 0, 0]], dtype=torch.int32)"
      ]
     },
     "execution_count": 19,
     "metadata": {},
     "output_type": "execute_result"
    }
   ],
   "source": [
    "import torch\n",
    "N0 = torch.zeros((28,28), dtype=torch.int32)\n",
    "#28x28 torch to accomodate 26 possible characters + a start and an end character\n",
    "N0\n",
    "\n",
    "#currently our tensor is 2 dimensional to accomodate the frequency of bigrams.\n",
    "#we can imagine it as a matrix:\n",
    "#[aa, ab, ac, ad, ...\n",
    "# ba, bb, bc, bd, ...]\n",
    "\n",
    "#where the cells are arranged alphabetically, and the data inside each cell is the frequency of each bigram."
   ]
  },
  {
   "cell_type": "code",
   "execution_count": 20,
   "metadata": {
    "id": "cxbtWenbiUTy"
   },
   "outputs": [],
   "source": [
    "#building a lookup table (mapping dict) to map characters to unique integers for encoding\n",
    "\n",
    "chars = sorted(list(set(''.join(words))))\n",
    "\n",
    "#stoi is s to i (encoding from string character to integer)\n",
    "stoi0 = {s:i for i, s in enumerate(chars)}\n",
    "stoi0['<S>'] = 26\n",
    "stoi0['<E>'] = 27"
   ]
  },
  {
   "cell_type": "code",
   "execution_count": 21,
   "metadata": {},
   "outputs": [],
   "source": [
    "# now we can follow the bigram generation code above to populate our tensor (with integers)\n",
    "\n",
    "for w in words:\n",
    "  chs = ['<S>'] + list(w) + ['<E>']\n",
    "  #<S> and <E> are arbitrary startword and endword characters\n",
    "  #so for each word in the dataset, we're building something like:\n",
    "  #[<S>, 'e', 'm', 'm', 'a', <E>]\n",
    "  for ch1, ch2 in zip(chs, chs[1:]):\n",
    "    ix1 = stoi0[ch1]\n",
    "    ix2 = stoi0[ch2]\n",
    "    N0[ix1, ix2] +=1"
   ]
  },
  {
   "cell_type": "code",
   "execution_count": 22,
   "metadata": {},
   "outputs": [
    {
     "data": {
      "text/plain": [
       "tensor([[ 556,  541,  470, 1042,  692,  134,  168, 2332, 1650,  175,  568, 2528,\n",
       "         1634, 5438,   63,   82,   60, 3264, 1118,  687,  381,  834,  161,  182,\n",
       "         2050,  435,    0, 6640],\n",
       "        [ 321,   38,    1,   65,  655,    0,    0,   41,  217,    1,    0,  103,\n",
       "            0,    4,  105,    0,    0,  842,    8,    2,   45,    0,    0,    0,\n",
       "           83,    0,    0,  114],\n",
       "        [ 815,    0,   42,    1,  551,    0,    2,  664,  271,    3,  316,  116,\n",
       "            0,    0,  380,    1,   11,   76,    5,   35,   35,    0,    0,    3,\n",
       "          104,    4,    0,   97],\n",
       "        [1303,    1,    3,  149, 1283,    5,   25,  118,  674,    9,    3,   60,\n",
       "           30,   31,  378,    0,    1,  424,   29,    4,   92,   17,   23,    0,\n",
       "          317,    1,    0,  516],\n",
       "        [ 679,  121,  153,  384, 1271,   82,  125,  152,  818,   55,  178, 3248,\n",
       "          769, 2675,  269,   83,   14, 1958,  861,  580,   69,  463,   50,  132,\n",
       "         1070,  181,    0, 3983],\n",
       "        [ 242,    0,    0,    0,  123,   44,    1,    1,  160,    0,    2,   20,\n",
       "            0,    4,   60,    0,    0,  114,    6,   18,   10,    0,    4,    0,\n",
       "           14,    2,    0,   80],\n",
       "        [ 330,    3,    0,   19,  334,    1,   25,  360,  190,    3,    0,   32,\n",
       "            6,   27,   83,    0,    0,  201,   30,   31,   85,    1,   26,    0,\n",
       "           31,    1,    0,  108],\n",
       "        [2244,    8,    2,   24,  674,    2,    2,    1,  729,    9,   29,  185,\n",
       "          117,  138,  287,    1,    1,  204,   31,   71,  166,   39,   10,    0,\n",
       "          213,   20,    0, 2409],\n",
       "        [2445,  110,  509,  440, 1653,  101,  428,   95,   82,   76,  445, 1345,\n",
       "          427, 2126,  588,   53,   52,  849, 1316,  541,  109,  269,    8,   89,\n",
       "          779,  277,    0, 2489],\n",
       "        [1473,    1,    4,    4,  440,    0,    0,   45,  119,    2,    2,    9,\n",
       "            5,    2,  479,    1,    0,   11,    7,    2,  202,    5,    6,    0,\n",
       "           10,    0,    0,   71],\n",
       "        [1731,    2,    2,    2,  895,    1,    0,  307,  509,    2,   20,  139,\n",
       "            9,   26,  344,    0,    0,  109,   95,   17,   50,    2,   34,    0,\n",
       "          379,    2,    0,  363],\n",
       "        [2623,   52,   25,  138, 2921,   22,    6,   19, 2480,    6,   24, 1345,\n",
       "           60,   14,  692,   15,    3,   18,   94,   77,  324,   72,   16,    0,\n",
       "         1588,   10,    0, 1314],\n",
       "        [2590,  112,   51,   24,  818,    1,    0,    5, 1256,    7,    1,    5,\n",
       "          168,   20,  452,   38,    0,   97,   35,    4,  139,    3,    2,    0,\n",
       "          287,   11,    0,  516],\n",
       "        [2977,    8,  213,  704, 1359,   11,  273,   26, 1725,   44,   58,  195,\n",
       "           19, 1906,  496,    5,    2,   44,  278,  443,   96,   55,   11,    6,\n",
       "          465,  145,    0, 6763],\n",
       "        [ 149,  140,  114,  190,  132,   34,   44,  171,   69,   16,   68,  619,\n",
       "          261, 2411,  115,   95,    3, 1059,  504,  118,  275,  176,  114,   45,\n",
       "          103,   54,    0,  855],\n",
       "        [ 209,    2,    1,    0,  197,    1,    0,  204,   61,    1,    1,   16,\n",
       "            1,    1,   59,   39,    0,  151,   16,   17,    4,    0,    0,    0,\n",
       "           12,    0,    0,   33],\n",
       "        [  13,    0,    0,    0,    1,    0,    0,    0,   13,    0,    0,    1,\n",
       "            2,    0,    2,    0,    0,    1,    2,    0,  206,    0,    3,    0,\n",
       "            0,    0,    0,   28],\n",
       "        [2356,   41,   99,  187, 1697,    9,   76,  121, 3033,   25,   90,  413,\n",
       "          162,  140,  869,   14,   16,  425,  190,  208,  252,   80,   21,    3,\n",
       "          773,   23,    0, 1377],\n",
       "        [1201,   21,   60,    9,  884,    2,    2, 1285,  684,    2,   82,  279,\n",
       "           90,   24,  531,   51,    1,   55,  461,  765,  185,   14,   24,    0,\n",
       "          215,   10,    0, 1169],\n",
       "        [1027,    1,   17,    0,  716,    2,    2,  647,  532,    3,    0,  134,\n",
       "            4,   22,  667,    0,    0,  352,   35,  374,   78,   15,   11,    2,\n",
       "          341,  105,    0,  483],\n",
       "        [ 163,  103,  103,  136,  169,   19,   47,   58,  121,   14,   93,  301,\n",
       "          154,  275,   10,   16,   10,  414,  474,   82,    3,   37,   86,   34,\n",
       "           13,   45,    0,  155],\n",
       "        [ 642,    1,    0,    1,  568,    0,    0,    1,  911,    0,    3,   14,\n",
       "            0,    8,  153,    0,    0,   48,    0,    0,    7,    7,    0,    0,\n",
       "          121,    0,    0,   88],\n",
       "        [ 280,    1,    0,    8,  149,    2,    1,   23,  148,    0,    6,   13,\n",
       "            2,   58,   36,    0,    0,   22,   20,    8,   25,    0,    2,    0,\n",
       "           73,    1,    0,   51],\n",
       "        [ 103,    1,    4,    5,   36,    3,    0,    1,  102,    0,    0,   39,\n",
       "            1,    1,   41,    0,    0,    0,   31,   70,    5,    0,    3,   38,\n",
       "           30,   19,    0,  164],\n",
       "        [2143,   27,  115,  272,  301,   12,   30,   22,  192,   23,   86, 1104,\n",
       "          148, 1826,  271,   15,    6,  291,  401,  104,  141,  106,    4,   28,\n",
       "           23,   78,    0, 2007],\n",
       "        [ 860,    4,    2,    2,  373,    0,    1,   43,  364,    2,    2,  123,\n",
       "           35,    4,  110,    2,    0,   32,    4,    4,   73,    2,    3,    1,\n",
       "          147,   45,    0,  160],\n",
       "        [4410, 1306, 1542, 1690, 1531,  417,  669,  874,  591, 2422, 2963, 1572,\n",
       "         2538, 1146,  394,  515,   92, 1639, 2055, 1308,   78,  376,  307,  134,\n",
       "          535,  929,    0,    0],\n",
       "        [   0,    0,    0,    0,    0,    0,    0,    0,    0,    0,    0,    0,\n",
       "            0,    0,    0,    0,    0,    0,    0,    0,    0,    0,    0,    0,\n",
       "            0,    0,    0,    0]], dtype=torch.int32)"
      ]
     },
     "execution_count": 22,
     "metadata": {},
     "output_type": "execute_result"
    }
   ],
   "source": [
    "N0"
   ]
  },
  {
   "cell_type": "code",
   "execution_count": 53,
   "metadata": {},
   "outputs": [],
   "source": [
    "#changing some stuff up:\n",
    "#on closer look, we dont actually need the last row where <E> precedes a character or when <S> is the last character\n",
    "#we can remote these and to reduce redundancy only have one special character for both start and end\n",
    "\n",
    "N = torch.zeros((27, 27), dtype=torch.int32)\n",
    "\n",
    "chars = sorted(list(set(''.join(words))))\n",
    "\n",
    "stoi = {s:i+1 for i, s in enumerate(chars)}\n",
    "stoi['.'] = 0\n",
    "itos = {s:i for i, s in stoi.items()}\n",
    "\n",
    "for w in words:\n",
    "  chs = ['.'] + list(w) + ['.']\n",
    "  for ch1, ch2 in zip(chs, chs[1:]):\n",
    "    ix1 = stoi[ch1]\n",
    "    ix2 = stoi[ch2]\n",
    "    N[ix1, ix2] +=1"
   ]
  },
  {
   "cell_type": "code",
   "execution_count": 47,
   "metadata": {},
   "outputs": [
    {
     "data": {
      "text/plain": [
       "tensor([   0, 4410, 1306, 1542, 1690, 1531,  417,  669,  874,  591, 2422, 2963,\n",
       "        1572, 2538, 1146,  394,  515,   92, 1639, 2055, 1308,   78,  376,  307,\n",
       "         134,  535,  929], dtype=torch.int32)"
      ]
     },
     "execution_count": 47,
     "metadata": {},
     "output_type": "execute_result"
    }
   ],
   "source": [
    "N\n",
    "\n",
    "#tensor can be iterated like a normal matrix:\n",
    "N[0]"
   ]
  },
  {
   "cell_type": "code",
   "execution_count": 48,
   "metadata": {},
   "outputs": [
    {
     "data": {
      "text/plain": [
       "tensor([0.0000, 0.1377, 0.0408, 0.0481, 0.0528, 0.0478, 0.0130, 0.0209, 0.0273,\n",
       "        0.0184, 0.0756, 0.0925, 0.0491, 0.0792, 0.0358, 0.0123, 0.0161, 0.0029,\n",
       "        0.0512, 0.0642, 0.0408, 0.0024, 0.0117, 0.0096, 0.0042, 0.0167, 0.0290])"
      ]
     },
     "execution_count": 48,
     "metadata": {},
     "output_type": "execute_result"
    }
   ],
   "source": [
    "#the tensor currently contains raw frequencies. we want to convert it into probabilities or weights\n",
    "\n",
    "p = N[0].float() #converting all values of first row to float (prepare to divide) in a new tensor 'p'\n",
    "p = p / p.sum()\n",
    "\n",
    "p #p is now the relative probability of seeing each bigram\n",
    "\n",
    "\n",
    "#we need to loop over all the rows and do this"
   ]
  },
  {
   "cell_type": "code",
   "execution_count": 61,
   "metadata": {},
   "outputs": [
    {
     "name": "stdout",
     "output_type": "stream",
     "text": [
      "gun.\n",
      "kaneliy.\n",
      "dy.\n",
      "exylell.\n",
      "eleleahmariss.\n",
      "modarrinam.\n",
      "rn.\n",
      "vybeartosay.\n",
      "kugr.\n",
      "mare.\n",
      "vayioalian.\n",
      "alaydanam.\n",
      "li.\n",
      "srar.\n",
      "lyner.\n",
      "anierigaeylla.\n",
      "si.\n",
      "jania.\n",
      "aranideava.\n",
      "tamaynaclysaroen.\n"
     ]
    }
   ],
   "source": [
    "#NOTE: torch.multinomial() is used to draw a sample based on given probabilities in a 1 dimensional tensor\n",
    "#       torch.Generator() is used to generate a deterministic random integer -- to be used in multinomial sampling\n",
    "\n",
    "g = torch.Generator().manual_seed(1337)\n",
    "\n",
    "\n",
    "for  i in range(20):\n",
    "\n",
    "    out = []\n",
    "\n",
    "    ix = 0 #row number\n",
    "    #we start with row 0 because all of row 0 starts with the starting character:\n",
    "    #[<S>a, <S>b, <S>c, <S>d, ... <S>z]\n",
    "    while True:\n",
    "        p = N[ix].float() #for each row we see, we convert frequencies to float\n",
    "        p = p / p.sum() #converting frequencies to normalized probabilities\n",
    "\n",
    "        ix = torch.multinomial(p, num_samples=1, replacement=True, generator=g).item() #.item at the end because otherwise it returns a tensor object\n",
    "        \n",
    "        out.append(itos[ix])\n",
    "        if ix == 0:\n",
    "            break\n",
    "\n",
    "    print(''.join(out))"
   ]
  },
  {
   "cell_type": "code",
   "execution_count": null,
   "metadata": {},
   "outputs": [],
   "source": []
  }
 ],
 "metadata": {
  "colab": {
   "authorship_tag": "ABX9TyPSFTQqcTYJeXlv4ccyUtUu",
   "mount_file_id": "1EtSrdKZGIX-_9SOvTxArUKE9QDdgYGtf",
   "provenance": []
  },
  "kernelspec": {
   "display_name": "Python 3",
   "name": "python3"
  },
  "language_info": {
   "codemirror_mode": {
    "name": "ipython",
    "version": 3
   },
   "file_extension": ".py",
   "mimetype": "text/x-python",
   "name": "python",
   "nbconvert_exporter": "python",
   "pygments_lexer": "ipython3",
   "version": "3.11.5"
  }
 },
 "nbformat": 4,
 "nbformat_minor": 0
}
